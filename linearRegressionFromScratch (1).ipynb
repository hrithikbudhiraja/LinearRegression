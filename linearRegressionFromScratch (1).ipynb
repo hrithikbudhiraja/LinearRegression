{
  "nbformat": 4,
  "nbformat_minor": 0,
  "metadata": {
    "colab": {
      "name": "linearRegressionFromScratch.ipynb",
      "provenance": []
    },
    "kernelspec": {
      "name": "python3",
      "display_name": "Python 3"
    },
    "language_info": {
      "name": "python"
    }
  },
  "cells": [
    {
      "cell_type": "code",
      "execution_count": 1,
      "metadata": {
        "id": "OSjRbi-KkyD4"
      },
      "outputs": [],
      "source": [
        "import numpy as np\n",
        "from numpy import random"
      ]
    },
    {
      "cell_type": "code",
      "source": [
        "#creating numpy arrays x and y\n",
        "x = random.randint(100, size=(100))\n",
        "y = (x/2)**2 + 5*(x/3) + 7"
      ],
      "metadata": {
        "id": "DatDWS5Ik42v"
      },
      "execution_count": 2,
      "outputs": []
    },
    {
      "cell_type": "code",
      "source": [
        "#splitting data into training and testing \n",
        "from sklearn import model_selection\n",
        "xTrain, xTest, yTrain, yTest = model_selection.train_test_split(x,y)"
      ],
      "metadata": {
        "id": "cPbNJCa2o0kl"
      },
      "execution_count": 3,
      "outputs": []
    },
    {
      "cell_type": "code",
      "source": [
        "#defining fit function by using the derived values of m and c\n",
        "def fit(xTrain, yTrain):\n",
        "  num = (xTrain * yTrain).mean() - xTrain.mean() * yTrain.mean()\n",
        "  den = (xTrain**2).mean() - xTrain.mean()**2\n",
        "  m = num/den\n",
        "  c = yTrain.mean() - m * xTrain.mean()\n",
        "  return m,c"
      ],
      "metadata": {
        "id": "1YWJ8QJVyhNi"
      },
      "execution_count": 4,
      "outputs": []
    },
    {
      "cell_type": "code",
      "source": [
        "#defining predict function to predict the output\n",
        "def predict(x, m, c):\n",
        "  return m * x + c\n",
        "#defining score function to compare the value of predicted and true values of y\n",
        "def score(yTruth, yPred):\n",
        "  u = ((yTruth - yPred)**2).sum()\n",
        "  v = ((yTruth - yTruth.mean())**2).sum()\n",
        "  return 1 - u/v"
      ],
      "metadata": {
        "id": "7c7PhKWpzarC"
      },
      "execution_count": 5,
      "outputs": []
    },
    {
      "cell_type": "code",
      "source": [
        "#finding the calculated values of m and c and getting the test scores\n",
        "m, c = fit(xTrain, yTrain)\n",
        "yTestPred = predict(xTest, m, c)\n",
        "yTestScore = score(yTest, yTestPred) \n",
        "print(\"m =\", m, \"c =\", c)\n",
        "print(\"Test Score =\", yTestScore)"
      ],
      "metadata": {
        "colab": {
          "base_uri": "https://localhost:8080/"
        },
        "id": "nRJKPkUk0I0S",
        "outputId": "90c46b6d-d329-461c-8717-c724f114ef20"
      },
      "execution_count": 6,
      "outputs": [
        {
          "output_type": "stream",
          "name": "stdout",
          "text": [
            "m = 26.25812363672978 c = -353.083439176678\n",
            "Test Score = 0.9198879743215916\n"
          ]
        }
      ]
    }
  ]
}