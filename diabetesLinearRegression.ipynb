{
  "nbformat": 4,
  "nbformat_minor": 0,
  "metadata": {
    "colab": {
      "name": "diabetesLinearRegression.ipynb",
      "provenance": []
    },
    "kernelspec": {
      "name": "python3",
      "display_name": "Python 3"
    },
    "language_info": {
      "name": "python"
    }
  },
  "cells": [
    {
      "cell_type": "code",
      "execution_count": 1,
      "metadata": {
        "colab": {
          "base_uri": "https://localhost:8080/"
        },
        "id": "CyLbJhDAFGhQ",
        "outputId": "f55b2192-59a8-48e1-e3c3-c5f8d4425344"
      },
      "outputs": [
        {
          "output_type": "stream",
          "name": "stdout",
          "text": [
            "Drive already mounted at /drive; to attempt to forcibly remount, call drive.mount(\"/drive\", force_remount=True).\n"
          ]
        }
      ],
      "source": [
        "from google.colab import drive\n",
        "drive.mount('/drive')"
      ]
    },
    {
      "cell_type": "code",
      "source": [
        "import pandas as pd\n",
        "import numpy as np"
      ],
      "metadata": {
        "id": "5onEDULwG7Ri"
      },
      "execution_count": 2,
      "outputs": []
    },
    {
      "cell_type": "code",
      "source": [
        "df = pd.read_csv(\"/drive/My Drive/diabetesDataset/training_diabetes_x_y_train.csv\")\n",
        "x = df[df.columns[:10]]\n",
        "y = df.iloc[:,10:11]"
      ],
      "metadata": {
        "id": "kk92VTcHHDrF"
      },
      "execution_count": 3,
      "outputs": []
    },
    {
      "cell_type": "code",
      "source": [
        "# splitting x and y to training and testing data\n",
        "from sklearn import model_selection\n",
        "xTrain,xTest,yTrain,yTest=model_selection.train_test_split(x,y)"
      ],
      "metadata": {
        "id": "gvJJjED7Iexe"
      },
      "execution_count": 4,
      "outputs": []
    },
    {
      "cell_type": "code",
      "source": [
        "# Perfrorming linear regression\n",
        "from sklearn.linear_model import LinearRegression\n",
        "alg1 = LinearRegression()"
      ],
      "metadata": {
        "id": "uV43PufvPjUg"
      },
      "execution_count": 5,
      "outputs": []
    },
    {
      "cell_type": "code",
      "source": [
        "# Training data using linear regression\n",
        "alg1.fit(xTrain , yTrain)"
      ],
      "metadata": {
        "colab": {
          "base_uri": "https://localhost:8080/"
        },
        "id": "9t8jhyS7P6lG",
        "outputId": "43b1e05f-cbf4-4d6e-f053-26918c683e47"
      },
      "execution_count": 6,
      "outputs": [
        {
          "output_type": "execute_result",
          "data": {
            "text/plain": [
              "LinearRegression()"
            ]
          },
          "metadata": {},
          "execution_count": 6
        }
      ]
    },
    {
      "cell_type": "code",
      "source": [
        "# Predicting output on xTest\n",
        "yPred = alg1.predict(xTest)"
      ],
      "metadata": {
        "id": "JXLEXZCjP9yF"
      },
      "execution_count": 7,
      "outputs": []
    },
    {
      "cell_type": "code",
      "source": [
        "#Finding the score on xTest values\n",
        "alg1.score(xTest, yTest)\n"
      ],
      "metadata": {
        "colab": {
          "base_uri": "https://localhost:8080/"
        },
        "id": "WgWG9J6qQLbf",
        "outputId": "217a02c8-ff31-43fc-81dd-1a2b0b118c29"
      },
      "execution_count": 8,
      "outputs": [
        {
          "output_type": "execute_result",
          "data": {
            "text/plain": [
              "0.5335396935584695"
            ]
          },
          "metadata": {},
          "execution_count": 8
        }
      ]
    }
  ]
}